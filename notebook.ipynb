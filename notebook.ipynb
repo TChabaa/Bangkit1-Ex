{
  "cells": [
    {
      "cell_type": "markdown",
      "metadata": {
        "id": "H9wADwK78DCz"
      },
      "source": [
        "# Proyek Analisis Data: [Bike-Sharing-Dataset]\n",
        "- **Nama:** [Ananta Bhirawa Putra Nugroho]\n",
        "- **Email:** [bhirawa24082004@gmail.com]\n",
        "- **ID Dicoding:** [\n",
        "Ananta Bhirawa]"
      ]
    },
    {
      "cell_type": "markdown",
      "metadata": {
        "id": "eE0raob58DC0"
      },
      "source": [
        "## Menentukan Pertanyaan Bisnis"
      ]
    },
    {
      "cell_type": "markdown",
      "metadata": {
        "id": "GmQeQ5YF8DC0"
      },
      "source": [
        "- Bagaimana musim mempengaruhi jumlah user, user teregitrasi dan sepeda\n",
        "- Pengaruh hari libur dan biasa terhadap jumlah user, user teregitrasi dan sepeda\n",
        "- Bagaimana jam mempengaruhi jumlah user, user teregitrasi dan sepeda\n",
        "- Pengaruh kondisi cuaca terhadap jumlah user, user teregitrasi dan sepeda"
      ]
    },
    {
      "cell_type": "markdown",
      "metadata": {
        "id": "H-z4QGlO8DC1"
      },
      "source": [
        "## Import Semua Packages/Library yang Digunakan"
      ]
    },
    {
      "cell_type": "code",
      "execution_count": null,
      "metadata": {
        "id": "FVYwaObI8DC1"
      },
      "outputs": [],
      "source": [
        "import pandas as pd\n",
        "import matplotlib.pyplot as plt\n",
        "import seaborn as sns\n",
        "import numpy as np\n",
        "import streamlit as st\n",
        "from babel.numbers import format_currency\n",
        "sns.set(style='dark')\n"
      ]
    },
    {
      "cell_type": "markdown",
      "metadata": {
        "id": "h_Sh51Xy8DC1"
      },
      "source": [
        "## Data Wrangling"
      ]
    },
    {
      "cell_type": "markdown",
      "metadata": {
        "id": "sXU2GBYu8DC1"
      },
      "source": [
        "### Gathering Data"
      ]
    },
    {
      "cell_type": "code",
      "execution_count": null,
      "metadata": {
        "id": "zjCBk1BI8DC1",
        "colab": {
          "base_uri": "https://localhost:8080/",
          "height": 210
        },
        "outputId": "9bda8062-b00c-45dc-8028-244123d24ead"
      },
      "outputs": [
        {
          "output_type": "error",
          "ename": "NameError",
          "evalue": "name 'day_df' is not defined",
          "traceback": [
            "\u001b[0;31m---------------------------------------------------------------------------\u001b[0m",
            "\u001b[0;31mNameError\u001b[0m                                 Traceback (most recent call last)",
            "\u001b[0;32m<ipython-input-2-de3ef80a7a64>\u001b[0m in \u001b[0;36m<cell line: 1>\u001b[0;34m()\u001b[0m\n\u001b[0;32m----> 1\u001b[0;31m \u001b[0mday_df\u001b[0m\u001b[0;34m.\u001b[0m\u001b[0minfo\u001b[0m\u001b[0;34m(\u001b[0m\u001b[0;34m)\u001b[0m\u001b[0;34m\u001b[0m\u001b[0;34m\u001b[0m\u001b[0m\n\u001b[0m\u001b[1;32m      2\u001b[0m \u001b[0mprint\u001b[0m\u001b[0;34m(\u001b[0m\u001b[0;34m\"Jumlah Duplikasi\"\u001b[0m\u001b[0;34m,\u001b[0m \u001b[0mday_df\u001b[0m\u001b[0;34m.\u001b[0m\u001b[0mduplicated\u001b[0m\u001b[0;34m(\u001b[0m\u001b[0;34m)\u001b[0m\u001b[0;34m.\u001b[0m\u001b[0msum\u001b[0m\u001b[0;34m(\u001b[0m\u001b[0;34m)\u001b[0m\u001b[0;34m)\u001b[0m\u001b[0;34m\u001b[0m\u001b[0;34m\u001b[0m\u001b[0m\n\u001b[1;32m      3\u001b[0m \u001b[0mprint\u001b[0m\u001b[0;34m(\u001b[0m\u001b[0mday_df\u001b[0m\u001b[0;34m.\u001b[0m\u001b[0mdescribe\u001b[0m\u001b[0;34m(\u001b[0m\u001b[0minclude\u001b[0m \u001b[0;34m=\u001b[0m \u001b[0;34m[\u001b[0m\u001b[0mnp\u001b[0m\u001b[0;34m.\u001b[0m\u001b[0mnumber\u001b[0m\u001b[0;34m]\u001b[0m\u001b[0;34m)\u001b[0m\u001b[0;34m)\u001b[0m\u001b[0;34m\u001b[0m\u001b[0;34m\u001b[0m\u001b[0m\n\u001b[1;32m      4\u001b[0m \u001b[0;34m\u001b[0m\u001b[0m\n\u001b[1;32m      5\u001b[0m \u001b[0mhour_df\u001b[0m\u001b[0;34m.\u001b[0m\u001b[0minfo\u001b[0m\u001b[0;34m(\u001b[0m\u001b[0;34m)\u001b[0m\u001b[0;34m\u001b[0m\u001b[0;34m\u001b[0m\u001b[0m\n",
            "\u001b[0;31mNameError\u001b[0m: name 'day_df' is not defined"
          ]
        }
      ],
      "source": [
        "day_df = pd.read_csv(\"data/day.csv\", header = 0)\n",
        "hour_df = pd.read_csv(\"data/hour.csv\", header=0)"
      ]
    },
    {
      "cell_type": "markdown",
      "metadata": {
        "id": "MMi6xGaDkbCi"
      },
      "source": [
        "**Insight:**\n",
        "-"
      ]
    },
    {
      "cell_type": "markdown",
      "metadata": {
        "id": "FHSiqaZp8DC1"
      },
      "source": [
        "### Assessing Data"
      ]
    },
    {
      "cell_type": "code",
      "execution_count": null,
      "metadata": {
        "colab": {
          "background_save": true
        },
        "id": "ax-3tEjc9Cj1"
      },
      "outputs": [],
      "source": [
        "day_df.info()\n",
        "print(\"Jumlah Duplikasi\", day_df.duplicated().sum())\n",
        "print(day_df.describe(include = [np.number]))\n",
        "\n",
        "hour_df.info()\n",
        "print(\"Jumlah Duplikasi\", hour_df.duplicated().sum())\n",
        "print(hour_df.describe(include = [np.number]))"
      ]
    },
    {
      "cell_type": "markdown",
      "metadata": {
        "id": "7dtxhAPrkhPL"
      },
      "source": [
        "**Insight:**\n",
        "- Tidak ada missing value maupun duplicate di kedua dataset\n",
        "- Terdapat mismatch antara tabel datadate dengan jenis datanya di kedua dataset"
      ]
    },
    {
      "cell_type": "markdown",
      "metadata": {
        "id": "EhN5R4hr8DC1"
      },
      "source": [
        "### Cleaning Data"
      ]
    },
    {
      "cell_type": "code",
      "execution_count": null,
      "metadata": {
        "colab": {
          "background_save": true
        },
        "id": "jVnYpprE9Evz"
      },
      "outputs": [],
      "source": [
        "datachange = [day_df, hour_df]\n",
        "\n",
        "for column in datachange:\n",
        "    column['dteday'] = pd.to_datetime(column['dteday'])\n",
        "\n",
        "day_df['atemp_scaled'] = day_df['atemp'] * 50\n",
        "\n",
        "# Define the temperature ranges and corresponding labels\n",
        "bins = [0, 10, 20, 30, 40, 50]  # Temperature intervals in Celsius\n",
        "labels = ['Very Cold', 'Cold', 'Mild', 'Warm', 'Hot']\n",
        "\n",
        "# Create a new column 'atemp_range' by categorizing the scaled 'atemp'\n",
        "day_df['atemp_range'] = pd.cut(day_df['atemp_scaled'], bins=bins, labels=labels, right=False, include_lowest=True)"
      ]
    },
    {
      "cell_type": "markdown",
      "metadata": {
        "id": "Q_5ejIqckiSP"
      },
      "source": [
        "**Insight:**\n",
        "- Mengganti dteday dari datatype object menjadi datetime pada kedua dataset\n",
        "- Menambah colum atemp_range untuk mengkategorikan suhu"
      ]
    },
    {
      "cell_type": "markdown",
      "metadata": {
        "id": "gp-Y6wU38DC1"
      },
      "source": [
        "## Exploratory Data Analysis (EDA)"
      ]
    },
    {
      "cell_type": "markdown",
      "metadata": {
        "id": "MW7WF2kr8DC1"
      },
      "source": [
        "### Explore ..."
      ]
    },
    {
      "cell_type": "code",
      "execution_count": null,
      "metadata": {
        "id": "e9CQCZjk8DC2"
      },
      "outputs": [],
      "source": [
        "print(day_df.describe(include = [np.number]))\n",
        "print(hour_df.describe(include = [np.number]))\n",
        "\n",
        "\n",
        "q1 = day_df.groupby(by='season').agg({\n",
        "    'casual': ['max','min', 'mean', 'std', 'sum'],\n",
        "    'registered': ['max', 'min', 'mean', 'std', 'sum'],\n",
        "    'cnt': ['max', 'min', 'mean', 'std', 'sum']\n",
        "})\n",
        "\n",
        "print(q1)\n",
        "\n",
        "q2 = day_df.groupby(by='workingday').agg({\n",
        "    'casual': ['max','min', 'mean', 'std'],\n",
        "    'registered': ['max', 'min', 'mean', 'std'],\n",
        "    'cnt': ['max', 'min', 'mean', 'std']\n",
        "})\n",
        "print(q2)\n",
        "\n",
        "q3 = hour_df.groupby(by='hr').agg({\n",
        "    'casual': ['max','min', 'mean', 'std'],\n",
        "    'registered': ['max', 'min', 'mean', 'std'],\n",
        "    'cnt': ['max', 'min', 'mean', 'std']\n",
        "})\n",
        "print(q3)\n",
        "\n",
        "q4a = day_df.groupby(by='weathersit').agg({\n",
        "    'casual': ['max','min', 'mean', 'std'],\n",
        "    'registered': ['max', 'min', 'mean', 'std'],\n",
        "    'cnt': ['max', 'min', 'mean', 'std']\n",
        "})\n",
        "\n",
        "q4b = hour_df.groupby(by='weathersit').agg({\n",
        "    'casual': ['max','min', 'mean', 'std'],\n",
        "    'registered': ['max', 'min', 'mean', 'std'],\n",
        "    'cnt': ['max', 'min', 'mean', 'std']\n",
        "})\n",
        "\n",
        "print(q4a)\n",
        "print(q4b)\n",
        "\n",
        "q5 = day_df.groupby(by='atemp').agg({\n",
        "    'casual': ['max','min', 'mean', 'std'],\n",
        "    'registered': ['max', 'min', 'mean', 'std'],\n",
        "    'cnt': ['max', 'min', 'mean', 'std']\n",
        "})\n"
      ]
    },
    {
      "cell_type": "markdown",
      "metadata": {
        "id": "th_Lzl2Fkj9O"
      },
      "source": [
        "**Insight:**\n",
        "- Musim, Jam, Cuaca, dan Suhu sangat mempengaruhi jumlah pengguna"
      ]
    },
    {
      "cell_type": "markdown",
      "metadata": {
        "id": "zsyZjqak8DC2"
      },
      "source": [
        "## Visualization & Explanatory Analysis"
      ]
    },
    {
      "cell_type": "markdown",
      "metadata": {
        "id": "HZxOiQ6n8DC2"
      },
      "source": [
        "### Pertanyaan 1:"
      ]
    },
    {
      "cell_type": "code",
      "execution_count": null,
      "metadata": {
        "id": "1swJUdAD8DC2"
      },
      "outputs": [],
      "source": [
        "st.subheader('Effect of Season on Number of Users')\n",
        "\n",
        "# Explanation of seasons\n",
        "st.write(\"\"\"\n",
        "### Explanation of Seasons\n",
        "- **Season Values**:\n",
        "  - `1`: Winter\n",
        "  - `2`: Spring\n",
        "  - `3`: Summer\n",
        "  - `4`: Fall\n",
        "\"\"\")\n",
        "\n",
        "col1, col2 = st.columns(2)\n",
        "\n",
        "with col1:\n",
        "    fig, ax = plt.subplots(figsize=(20, 10))\n",
        "    sns.barplot(\n",
        "        y=\"casual\",\n",
        "        x=\"season\",\n",
        "        data=q1_casual,\n",
        "        hue='season',\n",
        "        palette=colors,\n",
        "        legend=False,\n",
        "        ax=ax\n",
        "    )\n",
        "    ax.set_title(\"Average Number of Casual Customers\", loc=\"center\", fontsize=50)\n",
        "    ax.set_ylabel(None)\n",
        "    ax.set_xlabel(None)\n",
        "    ax.tick_params(axis='x', labelsize=35)\n",
        "    ax.tick_params(axis='y', labelsize=30)\n",
        "    st.pyplot(fig)\n",
        "\n",
        "with col2:\n",
        "    fig, ax = plt.subplots(figsize=(20, 10))\n",
        "    sns.barplot(\n",
        "        y=\"registered\",\n",
        "        x=\"season\",\n",
        "        data=q1_registered,\n",
        "        hue='season',\n",
        "        palette=colors,\n",
        "        legend=False,\n",
        "        ax=ax\n",
        "    )\n",
        "    ax.set_title(\"Average Number of Registered Customers\", loc=\"center\", fontsize=50)\n",
        "    ax.set_ylabel(None)\n",
        "    ax.set_xlabel(None)\n",
        "    ax.tick_params(axis='x', labelsize=35)\n",
        "    ax.tick_params(axis='y', labelsize=30)\n",
        "    st.pyplot(fig)\n",
        "\n",
        "# Bike Counts by season\n",
        "fig, ax = plt.subplots(figsize=(20, 10))\n",
        "sns.barplot(\n",
        "    y=\"cnt\",\n",
        "    x=\"season\",\n",
        "    data=q1_cnt,\n",
        "    hue='season',\n",
        "    palette=colors,\n",
        "    legend=False,\n",
        "    ax=ax\n",
        ")\n",
        "ax.set_title(\"Average Number of Bike Counts\", loc=\"center\", fontsize=50)\n",
        "ax.set_ylabel(None)\n",
        "ax.set_xlabel(None)\n",
        "ax.tick_params(axis='x', labelsize=35)\n",
        "ax.tick_params(axis='y', labelsize=30)\n",
        "st.pyplot(fig)\n",
        "\n",
        "# Analysis for Season Effects\n",
        "st.write(\"\"\"\n",
        "### Analysis of Season Effects\n",
        "- **Casual Customers**: There is a notable increase in casual customers during spring (2) and summer (3) seasons, indicating that good weather attracts more casual users.\n",
        "- **Registered Customers**: The number of registered customers shows a steadier pattern across seasons, suggesting that registered users are less affected by seasonal changes.\n",
        "- **Bike Counts**: The Bike Count trend follows a similar pattern to casual customers, reflecting their higher numbers in favorable seasons.\n",
        "\"\"\")"
      ]
    },
    {
      "cell_type": "markdown",
      "source": [],
      "metadata": {
        "id": "lo2Z_sHbceLs"
      }
    },
    {
      "cell_type": "markdown",
      "metadata": {
        "id": "DgHI7CiU8DC2"
      },
      "source": [
        "### Pertanyaan 2:"
      ]
    },
    {
      "cell_type": "code",
      "execution_count": null,
      "metadata": {
        "id": "Go0lCsvO8DC2"
      },
      "outputs": [],
      "source": [
        "st.subheader('Effect of Working Day on Number of Users')\n",
        "\n",
        "# Explanation of working day values\n",
        "st.write(\"\"\"\n",
        "### Explanation of Working Days\n",
        "- **Working Day Values**:\n",
        "  - `0`: Not a working day (weekend)\n",
        "  - `1`: Working day (Monday to Friday)\n",
        "\"\"\")\n",
        "\n",
        "col1, col2 = st.columns(2)\n",
        "\n",
        "with col1:\n",
        "    fig, ax = plt.subplots(figsize=(20, 10))\n",
        "    sns.barplot(\n",
        "        y=\"casual\",\n",
        "        x=\"workingday\",\n",
        "        data=q2_casual,\n",
        "        hue='workingday',\n",
        "        palette=colors,\n",
        "        legend=False,\n",
        "        ax=ax\n",
        "    )\n",
        "    ax.set_title(\"Average Number of Casual Customers\", loc=\"center\", fontsize=50)\n",
        "    ax.set_ylabel(None)\n",
        "    ax.set_xlabel(None)\n",
        "    ax.tick_params(axis='x', labelsize=35)\n",
        "    ax.tick_params(axis='y', labelsize=30)\n",
        "    st.pyplot(fig)\n",
        "\n",
        "with col2:\n",
        "    fig, ax = plt.subplots(figsize=(20, 10))\n",
        "    sns.barplot(\n",
        "        y=\"registered\",\n",
        "        x=\"workingday\",\n",
        "        data=q2_registered,\n",
        "        hue='workingday',\n",
        "        palette=colors,\n",
        "        legend=False,\n",
        "        ax=ax\n",
        "    )\n",
        "    ax.set_title(\"Average Number of Registered Customers\", loc=\"center\", fontsize=50)\n",
        "    ax.set_ylabel(None)\n",
        "    ax.set_xlabel(None)\n",
        "    ax.tick_params(axis='x', labelsize=35)\n",
        "    ax.tick_params(axis='y', labelsize=30)\n",
        "    st.pyplot(fig)\n",
        "\n",
        "# Bike Counts by working day\n",
        "fig, ax = plt.subplots(figsize=(20, 10))\n",
        "sns.barplot(\n",
        "    y=\"cnt\",\n",
        "    x=\"workingday\",\n",
        "    data=q2_cnt,\n",
        "    hue='workingday',\n",
        "    palette=colors,\n",
        "    legend=False,\n",
        "    ax=ax\n",
        ")\n",
        "ax.set_title(\"Average Number of Bike Counts\", loc=\"center\", fontsize=50)\n",
        "ax.set_ylabel(None)\n",
        "ax.set_xlabel(None)\n",
        "ax.tick_params(axis='x', labelsize=35)\n",
        "ax.tick_params(axis='y', labelsize=30)\n",
        "st.pyplot(fig)\n",
        "\n",
        "# Analysis for Working Day Effects\n",
        "st.write(\"\"\"\n",
        "### Analysis of Working Day Effects\n",
        "- **Casual Customers**: Casual users tend to be more active on non-working days, suggesting that leisure activities drive usage on weekends.\n",
        "- **Registered Customers**: The registered users show a more balanced distribution, implying that they utilize the service consistently regardless of working days.\n",
        "- **Bike Counts**: Bike Counts peak on non-working days, aligning with the casual usage pattern.\n",
        "\"\"\")\n"
      ]
    },
    {
      "cell_type": "markdown",
      "metadata": {
        "id": "_0-36BDLklRg"
      },
      "source": [
        "**Insight:**\n",
        "- xxx\n",
        "- xxx"
      ]
    },
    {
      "cell_type": "markdown",
      "source": [
        "### Pertanyaan 3"
      ],
      "metadata": {
        "id": "elf_hvMPchJk"
      }
    },
    {
      "cell_type": "code",
      "source": [
        "st.subheader('Effect of Time of Day on Number of Users')\n",
        "\n",
        "# Explanation of hour values\n",
        "st.write(\"\"\"\n",
        "### Explanation of Hour Values\n",
        "- **Hour Values**:\n",
        "  - `0` to `23`: Represents the hour of the day in a 24-hour format.\n",
        "\"\"\")\n",
        "\n",
        "col1, col2 = st.columns(2)\n",
        "\n",
        "with col1:\n",
        "    fig, ax = plt.subplots(figsize=(20, 10))\n",
        "    sns.barplot(\n",
        "        y=\"casual\",\n",
        "        x=\"hr\",\n",
        "        data=q3_casual,\n",
        "        hue='hr',\n",
        "        palette=colors,\n",
        "        legend=False,\n",
        "        ax=ax\n",
        "    )\n",
        "    ax.set_title(\"Average Number of Casual Customers\", loc=\"center\", fontsize=50)\n",
        "    ax.set_ylabel(None)\n",
        "    ax.set_xlabel(None)\n",
        "    ax.tick_params(axis='x', labelsize=35)\n",
        "    ax.tick_params(axis='y', labelsize=30)\n",
        "    st.pyplot(fig)\n",
        "\n",
        "with col2:\n",
        "    fig, ax = plt.subplots(figsize=(20, 10))\n",
        "    sns.barplot(\n",
        "        y=\"registered\",\n",
        "        x=\"hr\",\n",
        "        data=q3_registered,\n",
        "        hue='hr',\n",
        "        palette=colors,\n",
        "        legend=False,\n",
        "        ax=ax\n",
        "    )\n",
        "    ax.set_title(\"Average Number of Registered Customers\", loc=\"center\", fontsize=50)\n",
        "    ax.set_ylabel(None)\n",
        "    ax.set_xlabel(None)\n",
        "    ax.tick_params(axis='x', labelsize=35)\n",
        "    ax.tick_params(axis='y', labelsize=30)\n",
        "    st.pyplot(fig)\n",
        "\n",
        "# Bike Counts by hour\n",
        "fig, ax = plt.subplots(figsize=(20, 10))\n",
        "sns.barplot(\n",
        "    y=\"cnt\",\n",
        "    x=\"hr\",\n",
        "    data=q3_cnt,\n",
        "    hue='hr',\n",
        "    palette=colors,\n",
        "    legend=False,\n",
        "    ax=ax\n",
        ")\n",
        "ax.set_title(\"Average Number of Bike Counts\", loc=\"center\", fontsize=50)\n",
        "ax.set_ylabel(None)\n",
        "ax.set_xlabel(None)\n",
        "ax.tick_params(axis='x', labelsize=35)\n",
        "ax.tick_params(axis='y', labelsize=30)\n",
        "st.pyplot(fig)\n",
        "\n",
        "# Analysis for Hour Effects\n",
        "st.write(\"\"\"\n",
        "### Analysis of Hour Effects\n",
        "- **Casual Customers**: There is a significant rise in casual users during the late morning and evening hours, indicating that people tend to bike for leisure before and after work.\n",
        "- **Registered Customers**: Registered users display a more consistent usage throughout the day, with peaks during commute hours, indicating their reliance on bikes for transportation.\n",
        "- **Bike Counts**: The overall bike counts align closely with the registered users' pattern, highlighting the importance of commuter traffic.\n",
        "\"\"\")\n"
      ],
      "metadata": {
        "id": "XF_qjE27c1vL"
      },
      "execution_count": null,
      "outputs": []
    },
    {
      "cell_type": "markdown",
      "source": [
        "### Pertanyaan 4:"
      ],
      "metadata": {
        "id": "3UT6KTWpc8Gq"
      }
    },
    {
      "cell_type": "code",
      "source": [
        " Effect of Weather Situation on Number of Users\n",
        "st.subheader('Effect of Weather Situation on Number of Users')\n",
        "\n",
        "# Explanation of weather situation values\n",
        "st.write(\"\"\"\n",
        "### Explanation of Weather Situations\n",
        "- **Weather Situation Values**:\n",
        "  - `1`: Clear, Few Clouds\n",
        "  - `2`: Mist + Cloudy, Few Clouds\n",
        "  - `3`: Light Snow, Rain, Thunderstorm, etc.\n",
        "  - `4`: Heavy Rain + Ice Pellets + Snow, etc.\n",
        "\"\"\")\n",
        "\n",
        "col1, col2 = st.columns(2)\n",
        "\n",
        "with col1:\n",
        "    fig, ax = plt.subplots(figsize=(20, 10))\n",
        "    sns.barplot(\n",
        "        y=\"casual\",\n",
        "        x=\"weathersit\",\n",
        "        data=q4_casual,\n",
        "        hue='weathersit',\n",
        "        palette=colors,\n",
        "        legend=False,\n",
        "        ax=ax\n",
        "    )\n",
        "    ax.set_title(\"Average Number of Casual Customers\", loc=\"center\", fontsize=50)\n",
        "    ax.set_ylabel(None)\n",
        "    ax.set_xlabel(None)\n",
        "    ax.tick_params(axis='x', labelsize=35)\n",
        "    ax.tick_params(axis='y', labelsize=30)\n",
        "    st.pyplot(fig)\n",
        "\n",
        "with col2:\n",
        "    fig, ax = plt.subplots(figsize=(20, 10))\n",
        "    sns.barplot(\n",
        "        y=\"registered\",\n",
        "        x=\"weathersit\",\n",
        "        data=q4_registered,\n",
        "        hue='weathersit',\n",
        "        palette=colors,\n",
        "        legend=False,\n",
        "        ax=ax\n",
        "    )\n",
        "    ax.set_title(\"Average Number of Registered Customers\", loc=\"center\", fontsize=50)\n",
        "    ax.set_ylabel(None)\n",
        "    ax.set_xlabel(None)\n",
        "    ax.tick_params(axis='x', labelsize=35)\n",
        "    ax.tick_params(axis='y', labelsize=30)\n",
        "    st.pyplot(fig)\n",
        "\n",
        "# Bike Counts by weather situation\n",
        "fig, ax = plt.subplots(figsize=(20, 10))\n",
        "sns.barplot(\n",
        "    y=\"cnt\",\n",
        "    x=\"weathersit\",\n",
        "    data=q4_cnt,\n",
        "    hue='weathersit',\n",
        "    palette=colors,\n",
        "    legend=False,\n",
        "    ax=ax\n",
        ")\n",
        "ax.set_title(\"Average Number of Bike Counts\", loc=\"center\", fontsize=50)\n",
        "ax.set_ylabel(None)\n",
        "ax.set_xlabel(None)\n",
        "ax.tick_params(axis='x', labelsize=35)\n",
        "ax.tick_params(axis='y', labelsize=30)\n",
        "st.pyplot(fig)\n",
        "\n",
        "# Analysis for Weather Situation Effects\n",
        "st.write(\"\"\"\n",
        "### Analysis of Weather Situation Effects\n",
        "- **Casual Customers**: Casual usage declines significantly during adverse weather conditions, especially during heavy rain or snow (3 and 4), indicating that weather plays a crucial role in leisure biking.\n",
        "- **Registered Customers**: Registered users show some resilience to weather changes, but there is still a noticeable drop in usage during harsh conditions.\n",
        "- **Bike Counts**: The overall bike count trends follow similar patterns to casual users, reflecting the impact of weather on bike-sharing demand.\n",
        "\"\"\")"
      ],
      "metadata": {
        "id": "WyJjIDqSdAhi"
      },
      "execution_count": null,
      "outputs": []
    },
    {
      "cell_type": "markdown",
      "source": [
        "### Pertanyaan 5"
      ],
      "metadata": {
        "id": "JM0pozr-dE9z"
      }
    },
    {
      "cell_type": "code",
      "source": [
        "\n",
        "# Effect of daily temperature to number of user\n",
        "st.subheader('Effect of daily temperature to number of user')\n",
        "fig, ax = plt.subplots(figsize=(20, 10))\n",
        "sns.scatterplot(\n",
        "    x=\"atemp_scaled\",\n",
        "    y=\"casual\",\n",
        "    data=day_df,\n",
        "    palette=colors\n",
        ")\n",
        "ax.set_title(\"Casual customers Amount Based On Temperature\", fontsize=50)\n",
        "ax.set_xlabel(\"Temperature\", fontsize=35)\n",
        "ax.set_ylabel(\"Casual Customers\", fontsize=30)\n",
        "ax.tick_params(axis='x', labelsize=30)\n",
        "ax.tick_params(axis='y', labelsize=30)\n",
        "st.pyplot(fig)\n",
        "\n",
        "fig, ax = plt.subplots(figsize=(20, 10))\n",
        "sns.scatterplot(\n",
        "    x=\"atemp_scaled\",\n",
        "    y=\"registered\",\n",
        "    data=day_df,\n",
        "    palette=colors\n",
        ")\n",
        "ax.set_title(\"Registered customers Amount Based On Temperature\", fontsize=50)\n",
        "ax.set_xlabel(\"Temperature\", fontsize=35)\n",
        "ax.set_ylabel(\"Registered Customers\", fontsize=30)\n",
        "ax.tick_params(axis='x', labelsize=30)\n",
        "ax.tick_params(axis='y', labelsize=30)\n",
        "st.pyplot(fig)\n",
        "\n",
        "fig, ax = plt.subplots(figsize=(20, 10))\n",
        "sns.scatterplot(\n",
        "    x=\"atemp_scaled\",\n",
        "    y=\"cnt\",\n",
        "    data=day_df,\n",
        "    palette=colors\n",
        ")\n",
        "ax.set_title(\"Count of Bike Amount Based On Temperature\", fontsize=50)\n",
        "ax.set_xlabel(\"Temperature\", fontsize=35)\n",
        "ax.set_ylabel(\"Bike Counts\", fontsize=30)\n",
        "ax.tick_params(axis='x', labelsize=30)\n",
        "ax.tick_params(axis='y', labelsize=30)\n",
        "st.pyplot(fig)\n"
      ],
      "metadata": {
        "id": "Azwu05tzeXWj"
      },
      "execution_count": null,
      "outputs": []
    },
    {
      "cell_type": "markdown",
      "metadata": {
        "id": "9y4VUsmcYNZ5"
      },
      "source": [
        "## Analisis Lanjutan (Opsional)"
      ]
    },
    {
      "cell_type": "code",
      "execution_count": null,
      "metadata": {
        "id": "iWhnzsJGYUCO"
      },
      "outputs": [],
      "source": []
    },
    {
      "cell_type": "markdown",
      "metadata": {
        "id": "_WeHlCeX8DC2"
      },
      "source": [
        "## Conclusion"
      ]
    },
    {
      "cell_type": "markdown",
      "metadata": {
        "id": "ZTcyR48Y8DC2"
      },
      "source": [
        "Berikut adalah format yang diminta:\n",
        "\n",
        "1. **Pengaruh Musim terhadap Jumlah Pengguna:**\n",
        "   - Pelanggan kasual meningkat di musim semi dan panas.\n",
        "   - Pelanggan terdaftar menunjukkan angka yang lebih stabil sepanjang tahun.\n",
        "   - Jumlah sepeda tertinggi terjadi saat cuaca baik.\n",
        "\n",
        "2. **Pengaruh Hari Kerja terhadap Jumlah Pengguna:**\n",
        "   - Pelanggan kasual lebih aktif di hari non-kerja (akhir pekan).\n",
        "   - Pelanggan terdaftar menggunakan sepeda dengan konsisten, terlepas dari hari kerja atau tidak.\n",
        "   - Jumlah sepeda paling banyak terjadi di hari non-kerja.\n",
        "\n",
        "3. **Pengaruh Waktu terhadap Jumlah Pengguna:**\n",
        "   - Pelanggan kasual puncak penggunaan terjadi pada sore hari, setelah jam kerja.\n",
        "   - Pelanggan terdaftar lebih merata sepanjang hari, dengan puncak di waktu pergi dan pulang kerja.\n",
        "   - Total jumlah sepeda mirip dengan tren pelanggan kasual.\n",
        "\n",
        "4. **Pengaruh Situasi Cuaca terhadap Jumlah Pengguna:**\n",
        "   - Penggunaan kasual menurun drastis pada kondisi cuaca buruk.\n",
        "   - Pelanggan terdaftar tetap menggunakan sepeda meski cuaca kurang baik, tetapi lebih suka kondisi yang baik.\n",
        "   - Cuaca memiliki pengaruh besar terhadap perilaku bersepeda, terutama bagi pelanggan kasual.\n",
        "\n",
        "5. **Pengaruh Suhu Harian terhadap Jumlah Pengguna:**\n",
        "   - Suhu yang lebih tinggi mendorong lebih banyak pelanggan kasual.\n",
        "   - Pelanggan terdaftar juga meningkat dengan suhu, tetapi pengaruhnya lebih kecil.\n",
        "   - Total jumlah sepeda mencerminkan tren suhu, menunjukkan pengaruh suhu terhadap kedua jenis pengguna.\n",
        "\n",
        "Jika ada yang perlu ditambahkan atau diubah, silakan beri tahu!"
      ]
    }
  ],
  "metadata": {
    "colab": {
      "provenance": [],
      "collapsed_sections": [
        "3UT6KTWpc8Gq",
        "HZxOiQ6n8DC2",
        "DgHI7CiU8DC2",
        "elf_hvMPchJk"
      ]
    },
    "kernelspec": {
      "display_name": "Python 3",
      "language": "python",
      "name": "python3"
    },
    "language_info": {
      "name": "python",
      "version": "3.8.0 (tags/v3.8.0:fa919fd, Oct 14 2019, 19:21:23) [MSC v.1916 32 bit (Intel)]"
    },
    "vscode": {
      "interpreter": {
        "hash": "972b3bf27e332e87b5379f2791f6ef9dfc79c71018c370b0d7423235e20fe4d7"
      }
    }
  },
  "nbformat": 4,
  "nbformat_minor": 0
}